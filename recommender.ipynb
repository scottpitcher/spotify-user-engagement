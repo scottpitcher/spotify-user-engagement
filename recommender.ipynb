{
 "cells": [
  {
   "cell_type": "code",
   "execution_count": 3,
   "metadata": {},
   "outputs": [
    {
     "ename": "ImportError",
     "evalue": "cannot import name 'Tensor' from 'torch' (unknown location)",
     "output_type": "error",
     "traceback": [
      "\u001b[0;31m---------------------------------------------------------------------------\u001b[0m",
      "\u001b[0;31mImportError\u001b[0m                               Traceback (most recent call last)",
      "\u001b[1;32m/Users/scottpitcher/Desktop/python/Github/spotify-user-engagement/recommender.ipynb Cell 1\u001b[0m line \u001b[0;36m3\n\u001b[1;32m      <a href='vscode-notebook-cell:/Users/scottpitcher/Desktop/python/Github/spotify-user-engagement/recommender.ipynb#W0sZmlsZQ%3D%3D?line=0'>1</a>\u001b[0m \u001b[39mimport\u001b[39;00m \u001b[39mpandas\u001b[39;00m \u001b[39mas\u001b[39;00m \u001b[39mpd\u001b[39;00m\n\u001b[1;32m      <a href='vscode-notebook-cell:/Users/scottpitcher/Desktop/python/Github/spotify-user-engagement/recommender.ipynb#W0sZmlsZQ%3D%3D?line=1'>2</a>\u001b[0m \u001b[39mimport\u001b[39;00m \u001b[39mtorch\u001b[39;00m\n\u001b[0;32m----> <a href='vscode-notebook-cell:/Users/scottpitcher/Desktop/python/Github/spotify-user-engagement/recommender.ipynb#W0sZmlsZQ%3D%3D?line=2'>3</a>\u001b[0m \u001b[39mfrom\u001b[39;00m \u001b[39mtorch_geometric\u001b[39;00m\u001b[39m.\u001b[39;00m\u001b[39mdata\u001b[39;00m \u001b[39mimport\u001b[39;00m Data\n\u001b[1;32m      <a href='vscode-notebook-cell:/Users/scottpitcher/Desktop/python/Github/spotify-user-engagement/recommender.ipynb#W0sZmlsZQ%3D%3D?line=3'>4</a>\u001b[0m \u001b[39mfrom\u001b[39;00m \u001b[39mtorch_geometric\u001b[39;00m\u001b[39m.\u001b[39;00m\u001b[39mutils\u001b[39;00m \u001b[39mimport\u001b[39;00m from_scipy_sparse_matrix\n\u001b[1;32m      <a href='vscode-notebook-cell:/Users/scottpitcher/Desktop/python/Github/spotify-user-engagement/recommender.ipynb#W0sZmlsZQ%3D%3D?line=4'>5</a>\u001b[0m \u001b[39mfrom\u001b[39;00m \u001b[39mscipy\u001b[39;00m\u001b[39m.\u001b[39;00m\u001b[39msparse\u001b[39;00m \u001b[39mimport\u001b[39;00m coo_matrix\n",
      "File \u001b[0;32m~/Desktop/python/Github/spotify-user-engagement/.venv/lib/python3.12/site-packages/torch_geometric/__init__.py:1\u001b[0m\n\u001b[0;32m----> 1\u001b[0m \u001b[39mfrom\u001b[39;00m \u001b[39m.\u001b[39;00m\u001b[39m_compile\u001b[39;00m \u001b[39mimport\u001b[39;00m \u001b[39mcompile\u001b[39m, is_compiling\n\u001b[1;32m      2\u001b[0m \u001b[39mfrom\u001b[39;00m \u001b[39m.\u001b[39;00m\u001b[39medge_index\u001b[39;00m \u001b[39mimport\u001b[39;00m EdgeIndex\n\u001b[1;32m      3\u001b[0m \u001b[39mfrom\u001b[39;00m \u001b[39m.\u001b[39;00m\u001b[39mseed\u001b[39;00m \u001b[39mimport\u001b[39;00m seed_everything\n",
      "File \u001b[0;32m~/Desktop/python/Github/spotify-user-engagement/.venv/lib/python3.12/site-packages/torch_geometric/_compile.py:6\u001b[0m\n\u001b[1;32m      2\u001b[0m \u001b[39mfrom\u001b[39;00m \u001b[39mtyping\u001b[39;00m \u001b[39mimport\u001b[39;00m Any, Callable, Optional, Union\n\u001b[1;32m      4\u001b[0m \u001b[39mimport\u001b[39;00m \u001b[39mtorch\u001b[39;00m\n\u001b[0;32m----> 6\u001b[0m \u001b[39mimport\u001b[39;00m \u001b[39mtorch_geometric\u001b[39;00m\u001b[39m.\u001b[39;00m\u001b[39mtyping\u001b[39;00m\n\u001b[1;32m      9\u001b[0m \u001b[39mdef\u001b[39;00m \u001b[39mis_compiling\u001b[39m() \u001b[39m-\u001b[39m\u001b[39m>\u001b[39m \u001b[39mbool\u001b[39m:\n\u001b[1;32m     10\u001b[0m \u001b[39m    \u001b[39m\u001b[39mr\u001b[39m\u001b[39m\"\"\"Returns :obj:`True` in case :pytorch:`PyTorch` is compiling via\u001b[39;00m\n\u001b[1;32m     11\u001b[0m \u001b[39m    :meth:`torch.compile`.\u001b[39;00m\n\u001b[1;32m     12\u001b[0m \u001b[39m    \"\"\"\u001b[39;00m\n",
      "File \u001b[0;32m~/Desktop/python/Github/spotify-user-engagement/.venv/lib/python3.12/site-packages/torch_geometric/typing.py:9\u001b[0m\n\u001b[1;32m      7\u001b[0m \u001b[39mimport\u001b[39;00m \u001b[39mnumpy\u001b[39;00m \u001b[39mas\u001b[39;00m \u001b[39mnp\u001b[39;00m\n\u001b[1;32m      8\u001b[0m \u001b[39mimport\u001b[39;00m \u001b[39mtorch\u001b[39;00m\n\u001b[0;32m----> 9\u001b[0m \u001b[39mfrom\u001b[39;00m \u001b[39mtorch\u001b[39;00m \u001b[39mimport\u001b[39;00m Tensor\n\u001b[1;32m     11\u001b[0m WITH_PT20 \u001b[39m=\u001b[39m \u001b[39mint\u001b[39m(torch\u001b[39m.\u001b[39m__version__\u001b[39m.\u001b[39msplit(\u001b[39m'\u001b[39m\u001b[39m.\u001b[39m\u001b[39m'\u001b[39m)[\u001b[39m0\u001b[39m]) \u001b[39m>\u001b[39m\u001b[39m=\u001b[39m \u001b[39m2\u001b[39m\n\u001b[1;32m     12\u001b[0m WITH_PT21 \u001b[39m=\u001b[39m WITH_PT20 \u001b[39mand\u001b[39;00m \u001b[39mint\u001b[39m(torch\u001b[39m.\u001b[39m__version__\u001b[39m.\u001b[39msplit(\u001b[39m'\u001b[39m\u001b[39m.\u001b[39m\u001b[39m'\u001b[39m)[\u001b[39m1\u001b[39m]) \u001b[39m>\u001b[39m\u001b[39m=\u001b[39m \u001b[39m1\u001b[39m\n",
      "\u001b[0;31mImportError\u001b[0m: cannot import name 'Tensor' from 'torch' (unknown location)"
     ]
    }
   ],
   "source": [
    "import pandas as pd\n",
    "import torch\n",
    "from torch_geometric.data import Data\n",
    "from torch_geometric.utils import from_scipy_sparse_matrix\n",
    "from scipy.sparse import coo_matrix\n",
    "import torch.nn as nn\n",
    "# import torch.nn.functional as F\n",
    "from torch_geometric.nn import GCNConv\n",
    "from torch_geometric.data import DataLoader\n",
    "\n",
    "device = 'mps' if torch.backends.mps.is_available() else 'cpu'\n",
    "print(\"Device:\",device)\n"
   ]
  },
  {
   "cell_type": "code",
   "execution_count": null,
   "metadata": {},
   "outputs": [],
   "source": [
    "# Loading in user data [user_id,song_id,play_count,last_played,user_age,user_country]\n",
    "interaction_data = pd.read_csv('data/user/user_data.csv')\n",
    "\n",
    "# Creating mappings for users and items\n",
    "user_mapping = {user: idx for idx, user in enumerate(interaction_data['user_id'].unique())}\n",
    "item_mapping = {item: idx for idx, item in enumerate(interaction_data['song_id'].unique())}\n",
    "\n",
    "interaction_data['user_id'] = interaction_data['user_id'].map(user_mapping)\n",
    "interaction_data['song_id'] = interaction_data['song_id'].map(item_mapping)\n",
    "\n",
    "# Create a sparse matrix of interactions\n",
    "rows = interaction_data['user_id'].values\n",
    "cols = interaction_data['song_id'].values\n",
    "data = interaction_data['play_count'].values\n",
    "\n",
    "interaction_matrix = coo_matrix((data, (rows, cols)), shape=(len(user_mapping), len(item_mapping)))\n",
    "\n",
    "# Convert to PyTorch geometric data format\n",
    "edge_index, edge_attr = from_scipy_sparse_matrix(interaction_matrix)\n",
    "\n"
   ]
  },
  {
   "cell_type": "code",
   "execution_count": null,
   "metadata": {},
   "outputs": [],
   "source": [
    "# Creating the model\n",
    "class GCNRecommender(nn.Module):\n",
    "    def __init__(self, num_users, num_items, latent_dim):\n",
    "        super(GCNRecommender, self).__init__()\n",
    "        self.user_embedding = nn.Embedding(num_users, latent_dim)\n",
    "        self.item_embedding = nn.Embedding(num_items, latent_dim)\n",
    "        self.conv1 = GCNConv(latent_dim, 128)\n",
    "        self.conv2 = GCNConv(128, 64)\n",
    "        self.fc = nn.Linear(64, 1)\n",
    "\n",
    "    def forward(self, user, item, edge_index):\n",
    "        user_embed = self.user_embedding(user)\n",
    "        item_embed = self.item_embedding(item)\n",
    "        x = torch.cat([user_embed, item_embed], dim=0)\n",
    "        x = F.relu(self.conv1(x, edge_index))\n",
    "        x = F.relu(self.conv2(x, edge_index))\n",
    "        x = torch.cat([x[user], x[item]], dim=1)\n",
    "        x = self.fc(x)\n",
    "        return x\n",
    "    \n"
   ]
  },
  {
   "cell_type": "code",
   "execution_count": null,
   "metadata": {},
   "outputs": [],
   "source": [
    "# Create a Torch geometric dat object\n",
    "data = Data(edge_index=edge_index, edge_attr=edge_attr).to(device)\n",
    "\n",
    "# Definine model metrics (loss, optimization) and hyperparameters (num_users, num_items, latent_dim)\n",
    "num_users = len(user_mapping)\n",
    "num_items = len(item_mapping)\n",
    "latent_dim = 16\n",
    "\n",
    "model = GCNRecommender(num_users, num_items, latent_dim)\n",
    "optimizer = torch.optim.Adam(model.parameters(), lr=0.01)\n",
    "criterion = nn.MSELoss()"
   ]
  },
  {
   "cell_type": "code",
   "execution_count": null,
   "metadata": {},
   "outputs": [],
   "source": [
    "# Defining model training function\n",
    "def model_training(epochs):\n",
    "    model.train()\n",
    "    loss_list = {}\n",
    "    for epoch in range(0,epochs +1):\n",
    "        optimizer.zero_grad()\n",
    "        output = model(data.edge_index, data.edge_attr)\n",
    "        loss = criterion(output, data.edge_attr.float())\n",
    "        loss.backward()\n",
    "        optimizer.step()\n",
    "        print(f'Epoch {epoch}, Loss: {loss.item()}')\n",
    "        loss_list[epoch] = loss.item()\n",
    "    \n",
    "    return loss_list\n",
    "\n"
   ]
  },
  {
   "cell_type": "code",
   "execution_count": null,
   "metadata": {},
   "outputs": [],
   "source": [
    "# Defining evaluation function\n",
    "def model_evaluation(): \n",
    "    model.eval()\n",
    "    with torch.no_grad():\n",
    "        "
   ]
  }
 ],
 "metadata": {
  "kernelspec": {
   "display_name": ".venv",
   "language": "python",
   "name": "python3"
  },
  "language_info": {
   "codemirror_mode": {
    "name": "ipython",
    "version": 3
   },
   "file_extension": ".py",
   "mimetype": "text/x-python",
   "name": "python",
   "nbconvert_exporter": "python",
   "pygments_lexer": "ipython3",
   "version": "3.12.0"
  }
 },
 "nbformat": 4,
 "nbformat_minor": 2
}
