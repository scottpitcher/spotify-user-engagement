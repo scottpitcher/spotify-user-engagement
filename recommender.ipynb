{
 "cells": [
  {
   "cell_type": "markdown",
   "metadata": {},
   "source": [
    "# Spotify GCN Model Recommender in PyTorch"
   ]
  },
  {
   "cell_type": "markdown",
   "metadata": {},
   "source": [
    "### Importing Packages + Device Declaration"
   ]
  },
  {
   "cell_type": "code",
   "execution_count": 14,
   "metadata": {},
   "outputs": [
    {
     "name": "stdout",
     "output_type": "stream",
     "text": [
      "Device: mps\n"
     ]
    }
   ],
   "source": [
    "import pandas as pd\n",
    "import numpy as np\n",
    "import torch\n",
    "import torch.nn as nn\n",
    "from torch_geometric.data import Data\n",
    "from torch_geometric.utils import from_scipy_sparse_matrix\n",
    "from torch_geometric.nn import GCNConv\n",
    "import torch.nn.functional as F\n",
    "from scipy.sparse import coo_matrix\n",
    "from sklearn.model_selection import train_test_split\n",
    "from torch.utils.data import Dataset, DataLoader\n",
    "import random\n",
    "\n",
    "# Set device to mps if available\n",
    "device = 'mps' if torch.backends.mps.is_available() else 'cuda' if torch.cuda.is_available() else 'cpu'\n",
    "print(\"Device:\", device)"
   ]
  },
  {
   "cell_type": "markdown",
   "metadata": {},
   "source": [
    "### Data Preprocessing"
   ]
  },
  {
   "cell_type": "code",
   "execution_count": 2,
   "metadata": {},
   "outputs": [
    {
     "name": "stdout",
     "output_type": "stream",
     "text": [
      "Loading interaction data...\n",
      "Data loaded.\n",
      "Creating mappings for users and items...\n",
      "Mappings created.\n",
      "Creating interaction matrix...\n",
      "Interaction matrix created.\n"
     ]
    }
   ],
   "source": [
    "print(\"Loading interaction data...\")\n",
    "interaction_data = pd.read_csv('data/user/user_data.csv')\n",
    "print(\"Data loaded.\")\n",
    "\n",
    "# Creating mappings for users and items\n",
    "print(\"Creating mappings for users and items...\")\n",
    "user_mapping = {user: idx for idx, user in enumerate(interaction_data['user_id'].unique())}\n",
    "item_mapping = {item: idx for idx, item in enumerate(interaction_data['song_id'].unique())}\n",
    "interaction_data['user_id'] = interaction_data['user_id'].map(user_mapping)\n",
    "interaction_data['song_id'] = interaction_data['song_id'].map(item_mapping)\n",
    "print(\"Mappings created.\")\n",
    "\n",
    "# Creating the interaction matrix based on the entire dataset\n",
    "print(\"Creating interaction matrix...\")\n",
    "rows = interaction_data['user_id'].values\n",
    "cols = interaction_data['song_id'].values\n",
    "data = interaction_data['play_count'].values\n",
    "interaction_matrix = coo_matrix((data, (rows, cols)), shape=(len(user_mapping), len(item_mapping)))\n",
    "edge_index, edge_attr = from_scipy_sparse_matrix(interaction_matrix)\n",
    "edge_index = edge_index.to(device)\n",
    "print(\"Interaction matrix created.\")"
   ]
  },
  {
   "cell_type": "code",
   "execution_count": 3,
   "metadata": {},
   "outputs": [
    {
     "name": "stdout",
     "output_type": "stream",
     "text": [
      "Splitting data into training and testing sets...\n",
      "Data split completed.\n"
     ]
    }
   ],
   "source": [
    "# Splitting data into training and testing sets\n",
    "print(\"Splitting data into training and testing sets...\")\n",
    "train_data, test_data = train_test_split(interaction_data, test_size=0.2, random_state=42)\n",
    "print(\"Data split completed.\")\n",
    "\n",
    "# Variables for train function\n",
    "train_rows = train_data['user_id'].values\n",
    "train_cols = train_data['song_id'].values\n",
    "train_data_values = train_data['play_count'].values\n",
    "\n",
    "# Variables for test function\n",
    "test_rows = test_data['user_id'].values\n",
    "test_cols = test_data['song_id'].values\n",
    "test_data_values = test_data['play_count'].values"
   ]
  },
  {
   "cell_type": "code",
   "execution_count": 4,
   "metadata": {},
   "outputs": [
    {
     "name": "stdout",
     "output_type": "stream",
     "text": [
      "Creating datasets...\n",
      "Datasets created.\n",
      "Creating DataLoaders...\n",
      "DataLoaders created.\n"
     ]
    }
   ],
   "source": [
    "class InteractionDataset(Dataset):\n",
    "    def __init__(self, user_ids, item_ids, labels):\n",
    "        self.user_ids = user_ids\n",
    "        self.item_ids = item_ids\n",
    "        self.labels = labels\n",
    "\n",
    "    def __len__(self):\n",
    "        return len(self.user_ids)\n",
    "\n",
    "    def __getitem__(self, idx):\n",
    "        user_id = self.user_ids[idx]\n",
    "        item_id = self.item_ids[idx]\n",
    "        label = self.labels[idx]\n",
    "        return user_id, item_id, label\n",
    "\n",
    "# Creating the train and test datasets\n",
    "print(\"Creating datasets...\")\n",
    "train_dataset = InteractionDataset(train_rows, train_cols, train_data_values)\n",
    "test_dataset = InteractionDataset(test_rows, test_cols, test_data_values)\n",
    "print(\"Datasets created.\")\n",
    "\n",
    "# Creating the DataLoaders\n",
    "print(\"Creating DataLoaders...\")\n",
    "train_loader = DataLoader(train_dataset, batch_size=64, shuffle=True, num_workers=0)\n",
    "test_loader = DataLoader(test_dataset, batch_size=64, shuffle=False, num_workers=0)\n",
    "print(\"DataLoaders created.\")"
   ]
  },
  {
   "cell_type": "code",
   "execution_count": 5,
   "metadata": {},
   "outputs": [],
   "source": [
    "# Creating the model\n",
    "class GCNRecommender(nn.Module):\n",
    "    def __init__(self, num_users, num_items, latent_dim):\n",
    "        super(GCNRecommender, self).__init__()\n",
    "        self.user_embedding = nn.Embedding(num_users, latent_dim)\n",
    "        self.item_embedding = nn.Embedding(num_items, latent_dim)\n",
    "        self.conv1 = GCNConv(latent_dim, 128)                       \n",
    "        self.conv2 = GCNConv(128, 64)                               \n",
    "        self.fc = nn.Linear(64 * 2, 1)\n",
    "        self.dropout = nn.Dropout(0.4)\n",
    "\n",
    "    def forward(self, user, item, edge_index):\n",
    "        user_embed = self.user_embedding(user)                      # (batch_size, latent_dim)\n",
    "        item_embed = self.item_embedding(item)                      # (batch_size, latent_dim)\n",
    "        x = torch.cat([user_embed, item_embed], dim=0)              # (batch_size * 2, latent_dim)\n",
    "        x = F.relu(self.conv1(x, edge_index))                       # (batch_size * 2, 128)\n",
    "        x = F.relu(self.conv2(x, edge_index))                       # (batch_size * 2, 64)\n",
    "        x = self.dropout(x)\n",
    "        user_gcn_embed = x[:user.size(0)]                           # (batch_size, 64)\n",
    "        item_gcn_embed = x[user.size(0):]                           # (batch_size, 64)\n",
    "        \n",
    "        x = torch.cat([user_gcn_embed, item_gcn_embed], dim=1)      # (batch_size, 128)\n",
    "        x = self.fc(x)                                              # (batch_size, 1)\n",
    "        return x\n"
   ]
  },
  {
   "cell_type": "code",
   "execution_count": 6,
   "metadata": {},
   "outputs": [],
   "source": [
    "# Definine model metrics (loss, optimization) and hyperparameters (num_users, num_items, latent_dim)\n",
    "num_users = len(user_mapping)\n",
    "num_items = len(item_mapping)\n",
    "latent_dim = 16\n",
    "criterion = nn.MSELoss()"
   ]
  },
  {
   "cell_type": "markdown",
   "metadata": {},
   "source": [
    "Double checking that the model is outputting the correct shape "
   ]
  },
  {
   "cell_type": "code",
   "execution_count": 7,
   "metadata": {},
   "outputs": [
    {
     "name": "stdout",
     "output_type": "stream",
     "text": [
      "torch.Size([64, 1])\n"
     ]
    }
   ],
   "source": [
    "model = GCNRecommender(num_users, num_items, latent_dim=16).to(device)\n",
    "optimizer = torch.optim.Adam(model.parameters(), lr=0.01)\n",
    "criterion = nn.MSELoss()\n",
    "\n",
    "for user_id, item_id, label in train_loader:\n",
    "    user_id, item_id, label = user_id.to(device), item_id.to(device), label.to(device)\n",
    "    outputs = model(user_id, item_id, edge_index)\n",
    "    print(outputs.shape)  # Should be (batch_size, 1)\n",
    "    break"
   ]
  },
  {
   "cell_type": "code",
   "execution_count": 8,
   "metadata": {},
   "outputs": [],
   "source": [
    "def model_training(epochs):\n",
    "    global model\n",
    "    print(\"Starting training...\")\n",
    "    model = GCNRecommender(num_users, num_items, latent_dim=16).to(device)\n",
    "    optimizer = torch.optim.Adam(model.parameters(), lr=0.01)\n",
    "    loss_dict = {}\n",
    "    for epoch in range(epochs):\n",
    "        model.train()\n",
    "        epoch_loss = 0\n",
    "        for user, item, label in train_loader:\n",
    "            user = user.to(device)\n",
    "            item = item.to(device)\n",
    "            label = label.float().to(device)\n",
    "            optimizer.zero_grad()\n",
    "            outputs = model(user, item, edge_index).squeeze()\n",
    "            loss = criterion(outputs, label)\n",
    "            loss.backward()\n",
    "            optimizer.step()\n",
    "            epoch_loss += loss.item()\n",
    "        avg_epoch_loss = epoch_loss / len(train_loader)\n",
    "        print(f'Epoch {epoch}, Loss: {avg_epoch_loss}')\n",
    "        loss_dict[epoch] = avg_epoch_loss\n",
    "        if device == 'mps':\n",
    "            torch.mps.empty_cache()\n",
    "        else:\n",
    "            torch.cuda.empty_cache()\n",
    "    return loss_dict"
   ]
  },
  {
   "cell_type": "code",
   "execution_count": 13,
   "metadata": {},
   "outputs": [
    {
     "ename": "TypeError",
     "evalue": "model_evaluation_mc_dropout() missing 6 required positional arguments: 'model', 'test_rows', 'test_cols', 'test_data_values', 'edge_index', and 'device'",
     "output_type": "error",
     "traceback": [
      "\u001b[0;31m---------------------------------------------------------------------------\u001b[0m",
      "\u001b[0;31mTypeError\u001b[0m                                 Traceback (most recent call last)",
      "\u001b[1;32m/Users/scottpitcher/Desktop/python/Github/spotify-user-engagement/recommender.ipynb Cell 13\u001b[0m line \u001b[0;36m1\n\u001b[1;32m     <a href='vscode-notebook-cell:/Users/scottpitcher/Desktop/python/Github/spotify-user-engagement/recommender.ipynb#X15sZmlsZQ%3D%3D?line=12'>13</a>\u001b[0m     std_predictions \u001b[39m=\u001b[39m all_predictions\u001b[39m.\u001b[39mstd(axis\u001b[39m=\u001b[39m\u001b[39m0\u001b[39m)\n\u001b[1;32m     <a href='vscode-notebook-cell:/Users/scottpitcher/Desktop/python/Github/spotify-user-engagement/recommender.ipynb#X15sZmlsZQ%3D%3D?line=13'>14</a>\u001b[0m     \u001b[39mreturn\u001b[39;00m mean_predictions, std_predictions\n\u001b[0;32m---> <a href='vscode-notebook-cell:/Users/scottpitcher/Desktop/python/Github/spotify-user-engagement/recommender.ipynb#X15sZmlsZQ%3D%3D?line=14'>15</a>\u001b[0m model_evaluation_mc_dropout()\n",
      "\u001b[0;31mTypeError\u001b[0m: model_evaluation_mc_dropout() missing 6 required positional arguments: 'model', 'test_rows', 'test_cols', 'test_data_values', 'edge_index', and 'device'"
     ]
    }
   ],
   "source": [
    "# Defining model evaluation function with Monte Carlo Dropout\n",
    "def model_evaluation_mc_dropout(n_samples=15):\n",
    "    \"\"\"\n",
    "    evaluating the model using Monte-Carlo Dropout to estimate prediction uncertainty.\n",
    "\n",
    "    Takes in:\n",
    "    - n_samples: Number of forward passes to perform for uncertainty estimation. This is the amount of estimations per sample point.\n",
    "\n",
    "    Returns:\n",
    "    - mean_predictions: Mean of the predictions from multiple forward passes.\n",
    "    - std_predictions: Standard deviation of the predictions from multiple forward passes.\n",
    "    \"\"\"\n",
    "    model.train()  # Enable dropout\n",
    "    all_predictions = []\n",
    "\n",
    "    for _ in range(n_samples):\n",
    "        batch_predictions = []\n",
    "        for user, item, _ in test_loader:\n",
    "            user = user.to(device)\n",
    "            item = item.to(device)\n",
    "            outputs = model(user, item, edge_index).squeeze()\n",
    "            batch_predictions.append(outputs.cpu().detach().numpy())\n",
    "        all_predictions.append(np.concatenate(batch_predictions))\n",
    "\n",
    "    mean_predictions = np.mean(all_predictions, axis=0)\n",
    "    std_predictions = np.std(all_predictions, axis=0)\n",
    "    return mean_predictions, std_predictions\n",
    "model_evaluation_mc_dropout()"
   ]
  },
  {
   "cell_type": "code",
   "execution_count": null,
   "metadata": {},
   "outputs": [],
   "source": [
    "# Select most uncertain samples for labeling\n",
    "def select_most_uncertain_samples(top_k=500):\n",
    "    mean_predictions, std_predictions = model_evaluation_mc_dropout()\n",
    "    uncertainties = std_predictions\n",
    "    uncertain_indices = np.argsort(-uncertainties)[:top_k]\n",
    "    return [(test_rows[i], test_cols[i]) for i in uncertain_indices]\n"
   ]
  },
  {
   "cell_type": "code",
   "execution_count": null,
   "metadata": {},
   "outputs": [],
   "source": [
    "def update_model_with_active_learning(uncertain_samples):\n",
    "    optimizer = torch.optim.Adam(model.parameters(), lr=0.01)\n",
    "    criterion = nn.MSELoss()\n",
    "    model.train()  # Set the model to training mode\n",
    "\n",
    "    for user, item in uncertain_samples:\n",
    "        user = torch.tensor([user], dtype=torch.long).to(device)\n",
    "        item = torch.tensor([item], dtype=torch.long).to(device)\n",
    "        # Simulating user feedback as actual play_count\n",
    "        actual_play_count = interaction_data[(interaction_data['user_id'] == user.item()) & \n",
    "                                             (interaction_data['song_id'] == item.item())]['play_count'].values[0]\n",
    "        optimizer.zero_grad()\n",
    "        outputs = model(user, item, edge_index).squeeze()\n",
    "        loss = criterion(outputs, torch.tensor([actual_play_count], dtype=torch.float).to(device))\n",
    "        loss.backward()\n",
    "        optimizer.step()\n",
    "\n",
    "    # Clear GPU cache\n",
    "    if device == 'mps':\n",
    "        torch.mps.empty_cache()\n",
    "    else:\n",
    "        torch.cuda.empty_cache()"
   ]
  },
  {
   "cell_type": "code",
   "execution_count": 10,
   "metadata": {},
   "outputs": [
    {
     "name": "stdout",
     "output_type": "stream",
     "text": [
      "Script started.\n",
      "Starting training...\n"
     ]
    },
    {
     "name": "stdout",
     "output_type": "stream",
     "text": [
      "Epoch 0, Batch 0, Loss: 230.67034912109375\n",
      "Epoch 0, Batch 100, Loss: 177.89852905273438\n",
      "Epoch 0, Batch 200, Loss: 200.689208984375\n",
      "Epoch 0, Batch 300, Loss: 68.10151672363281\n"
     ]
    },
    {
     "ename": "KeyboardInterrupt",
     "evalue": "",
     "output_type": "error",
     "traceback": [
      "\u001b[0;31m---------------------------------------------------------------------------\u001b[0m",
      "\u001b[0;31mKeyboardInterrupt\u001b[0m                         Traceback (most recent call last)",
      "\u001b[1;32m/Users/scottpitcher/Desktop/python/Github/spotify-user-engagement/recommender.ipynb Cell 14\u001b[0m line \u001b[0;36m2\n\u001b[1;32m      <a href='vscode-notebook-cell:/Users/scottpitcher/Desktop/python/Github/spotify-user-engagement/recommender.ipynb#X16sZmlsZQ%3D%3D?line=0'>1</a>\u001b[0m \u001b[39mprint\u001b[39m(\u001b[39m\"\u001b[39m\u001b[39mScript started.\u001b[39m\u001b[39m\"\u001b[39m)\n\u001b[0;32m----> <a href='vscode-notebook-cell:/Users/scottpitcher/Desktop/python/Github/spotify-user-engagement/recommender.ipynb#X16sZmlsZQ%3D%3D?line=1'>2</a>\u001b[0m model_training(epochs\u001b[39m=\u001b[39;49m\u001b[39m1\u001b[39;49m)\n\u001b[1;32m      <a href='vscode-notebook-cell:/Users/scottpitcher/Desktop/python/Github/spotify-user-engagement/recommender.ipynb#X16sZmlsZQ%3D%3D?line=2'>3</a>\u001b[0m model_evaluation()\n\u001b[1;32m      <a href='vscode-notebook-cell:/Users/scottpitcher/Desktop/python/Github/spotify-user-engagement/recommender.ipynb#X16sZmlsZQ%3D%3D?line=3'>4</a>\u001b[0m \u001b[39mprint\u001b[39m(\u001b[39m\"\u001b[39m\u001b[39mScript completed.\u001b[39m\u001b[39m\"\u001b[39m)\n",
      "\u001b[1;32m/Users/scottpitcher/Desktop/python/Github/spotify-user-engagement/recommender.ipynb Cell 14\u001b[0m line \u001b[0;36m1\n\u001b[1;32m     <a href='vscode-notebook-cell:/Users/scottpitcher/Desktop/python/Github/spotify-user-engagement/recommender.ipynb#X16sZmlsZQ%3D%3D?line=14'>15</a>\u001b[0m label \u001b[39m=\u001b[39m label\u001b[39m.\u001b[39mfloat()\u001b[39m.\u001b[39mto(device)  \u001b[39m# Ensure labels are of float type\u001b[39;00m\n\u001b[1;32m     <a href='vscode-notebook-cell:/Users/scottpitcher/Desktop/python/Github/spotify-user-engagement/recommender.ipynb#X16sZmlsZQ%3D%3D?line=15'>16</a>\u001b[0m optimizer\u001b[39m.\u001b[39mzero_grad()\n\u001b[0;32m---> <a href='vscode-notebook-cell:/Users/scottpitcher/Desktop/python/Github/spotify-user-engagement/recommender.ipynb#X16sZmlsZQ%3D%3D?line=16'>17</a>\u001b[0m outputs \u001b[39m=\u001b[39m model(user, item, edge_index)\u001b[39m.\u001b[39msqueeze()\n\u001b[1;32m     <a href='vscode-notebook-cell:/Users/scottpitcher/Desktop/python/Github/spotify-user-engagement/recommender.ipynb#X16sZmlsZQ%3D%3D?line=17'>18</a>\u001b[0m loss \u001b[39m=\u001b[39m criterion(outputs, label)\n\u001b[1;32m     <a href='vscode-notebook-cell:/Users/scottpitcher/Desktop/python/Github/spotify-user-engagement/recommender.ipynb#X16sZmlsZQ%3D%3D?line=18'>19</a>\u001b[0m loss\u001b[39m.\u001b[39mbackward()\n",
      "File \u001b[0;32m~/Desktop/python/Github/spotify-user-engagement/.venv/lib/python3.12/site-packages/torch/nn/modules/module.py:1532\u001b[0m, in \u001b[0;36mModule._wrapped_call_impl\u001b[0;34m(self, *args, **kwargs)\u001b[0m\n\u001b[1;32m   1530\u001b[0m     \u001b[39mreturn\u001b[39;00m \u001b[39mself\u001b[39m\u001b[39m.\u001b[39m_compiled_call_impl(\u001b[39m*\u001b[39margs, \u001b[39m*\u001b[39m\u001b[39m*\u001b[39mkwargs)  \u001b[39m# type: ignore[misc]\u001b[39;00m\n\u001b[1;32m   1531\u001b[0m \u001b[39melse\u001b[39;00m:\n\u001b[0;32m-> 1532\u001b[0m     \u001b[39mreturn\u001b[39;00m \u001b[39mself\u001b[39;49m\u001b[39m.\u001b[39;49m_call_impl(\u001b[39m*\u001b[39;49margs, \u001b[39m*\u001b[39;49m\u001b[39m*\u001b[39;49mkwargs)\n",
      "File \u001b[0;32m~/Desktop/python/Github/spotify-user-engagement/.venv/lib/python3.12/site-packages/torch/nn/modules/module.py:1541\u001b[0m, in \u001b[0;36mModule._call_impl\u001b[0;34m(self, *args, **kwargs)\u001b[0m\n\u001b[1;32m   1536\u001b[0m \u001b[39m# If we don't have any hooks, we want to skip the rest of the logic in\u001b[39;00m\n\u001b[1;32m   1537\u001b[0m \u001b[39m# this function, and just call forward.\u001b[39;00m\n\u001b[1;32m   1538\u001b[0m \u001b[39mif\u001b[39;00m \u001b[39mnot\u001b[39;00m (\u001b[39mself\u001b[39m\u001b[39m.\u001b[39m_backward_hooks \u001b[39mor\u001b[39;00m \u001b[39mself\u001b[39m\u001b[39m.\u001b[39m_backward_pre_hooks \u001b[39mor\u001b[39;00m \u001b[39mself\u001b[39m\u001b[39m.\u001b[39m_forward_hooks \u001b[39mor\u001b[39;00m \u001b[39mself\u001b[39m\u001b[39m.\u001b[39m_forward_pre_hooks\n\u001b[1;32m   1539\u001b[0m         \u001b[39mor\u001b[39;00m _global_backward_pre_hooks \u001b[39mor\u001b[39;00m _global_backward_hooks\n\u001b[1;32m   1540\u001b[0m         \u001b[39mor\u001b[39;00m _global_forward_hooks \u001b[39mor\u001b[39;00m _global_forward_pre_hooks):\n\u001b[0;32m-> 1541\u001b[0m     \u001b[39mreturn\u001b[39;00m forward_call(\u001b[39m*\u001b[39;49margs, \u001b[39m*\u001b[39;49m\u001b[39m*\u001b[39;49mkwargs)\n\u001b[1;32m   1543\u001b[0m \u001b[39mtry\u001b[39;00m:\n\u001b[1;32m   1544\u001b[0m     result \u001b[39m=\u001b[39m \u001b[39mNone\u001b[39;00m\n",
      "\u001b[1;32m/Users/scottpitcher/Desktop/python/Github/spotify-user-engagement/recommender.ipynb Cell 14\u001b[0m line \u001b[0;36m1\n\u001b[1;32m     <a href='vscode-notebook-cell:/Users/scottpitcher/Desktop/python/Github/spotify-user-engagement/recommender.ipynb#X16sZmlsZQ%3D%3D?line=13'>14</a>\u001b[0m x \u001b[39m=\u001b[39m torch\u001b[39m.\u001b[39mcat([user_embed, item_embed], dim\u001b[39m=\u001b[39m\u001b[39m0\u001b[39m)              \u001b[39m# (batch_size * 2, latent_dim)\u001b[39;00m\n\u001b[1;32m     <a href='vscode-notebook-cell:/Users/scottpitcher/Desktop/python/Github/spotify-user-engagement/recommender.ipynb#X16sZmlsZQ%3D%3D?line=14'>15</a>\u001b[0m x \u001b[39m=\u001b[39m F\u001b[39m.\u001b[39mrelu(\u001b[39mself\u001b[39m\u001b[39m.\u001b[39mconv1(x, edge_index))                       \u001b[39m# (batch_size * 2, 128)\u001b[39;00m\n\u001b[0;32m---> <a href='vscode-notebook-cell:/Users/scottpitcher/Desktop/python/Github/spotify-user-engagement/recommender.ipynb#X16sZmlsZQ%3D%3D?line=15'>16</a>\u001b[0m x \u001b[39m=\u001b[39m F\u001b[39m.\u001b[39mrelu(\u001b[39mself\u001b[39;49m\u001b[39m.\u001b[39;49mconv2(x, edge_index))                       \u001b[39m# (batch_size * 2, 64)\u001b[39;00m\n\u001b[1;32m     <a href='vscode-notebook-cell:/Users/scottpitcher/Desktop/python/Github/spotify-user-engagement/recommender.ipynb#X16sZmlsZQ%3D%3D?line=16'>17</a>\u001b[0m user_gcn_embed \u001b[39m=\u001b[39m x[:user\u001b[39m.\u001b[39msize(\u001b[39m0\u001b[39m)]                           \u001b[39m# (batch_size, 64)\u001b[39;00m\n\u001b[1;32m     <a href='vscode-notebook-cell:/Users/scottpitcher/Desktop/python/Github/spotify-user-engagement/recommender.ipynb#X16sZmlsZQ%3D%3D?line=17'>18</a>\u001b[0m item_gcn_embed \u001b[39m=\u001b[39m x[user\u001b[39m.\u001b[39msize(\u001b[39m0\u001b[39m):]                           \u001b[39m# (batch_size, 64)\u001b[39;00m\n",
      "File \u001b[0;32m~/Desktop/python/Github/spotify-user-engagement/.venv/lib/python3.12/site-packages/torch/nn/modules/module.py:1532\u001b[0m, in \u001b[0;36mModule._wrapped_call_impl\u001b[0;34m(self, *args, **kwargs)\u001b[0m\n\u001b[1;32m   1530\u001b[0m     \u001b[39mreturn\u001b[39;00m \u001b[39mself\u001b[39m\u001b[39m.\u001b[39m_compiled_call_impl(\u001b[39m*\u001b[39margs, \u001b[39m*\u001b[39m\u001b[39m*\u001b[39mkwargs)  \u001b[39m# type: ignore[misc]\u001b[39;00m\n\u001b[1;32m   1531\u001b[0m \u001b[39melse\u001b[39;00m:\n\u001b[0;32m-> 1532\u001b[0m     \u001b[39mreturn\u001b[39;00m \u001b[39mself\u001b[39;49m\u001b[39m.\u001b[39;49m_call_impl(\u001b[39m*\u001b[39;49margs, \u001b[39m*\u001b[39;49m\u001b[39m*\u001b[39;49mkwargs)\n",
      "File \u001b[0;32m~/Desktop/python/Github/spotify-user-engagement/.venv/lib/python3.12/site-packages/torch/nn/modules/module.py:1541\u001b[0m, in \u001b[0;36mModule._call_impl\u001b[0;34m(self, *args, **kwargs)\u001b[0m\n\u001b[1;32m   1536\u001b[0m \u001b[39m# If we don't have any hooks, we want to skip the rest of the logic in\u001b[39;00m\n\u001b[1;32m   1537\u001b[0m \u001b[39m# this function, and just call forward.\u001b[39;00m\n\u001b[1;32m   1538\u001b[0m \u001b[39mif\u001b[39;00m \u001b[39mnot\u001b[39;00m (\u001b[39mself\u001b[39m\u001b[39m.\u001b[39m_backward_hooks \u001b[39mor\u001b[39;00m \u001b[39mself\u001b[39m\u001b[39m.\u001b[39m_backward_pre_hooks \u001b[39mor\u001b[39;00m \u001b[39mself\u001b[39m\u001b[39m.\u001b[39m_forward_hooks \u001b[39mor\u001b[39;00m \u001b[39mself\u001b[39m\u001b[39m.\u001b[39m_forward_pre_hooks\n\u001b[1;32m   1539\u001b[0m         \u001b[39mor\u001b[39;00m _global_backward_pre_hooks \u001b[39mor\u001b[39;00m _global_backward_hooks\n\u001b[1;32m   1540\u001b[0m         \u001b[39mor\u001b[39;00m _global_forward_hooks \u001b[39mor\u001b[39;00m _global_forward_pre_hooks):\n\u001b[0;32m-> 1541\u001b[0m     \u001b[39mreturn\u001b[39;00m forward_call(\u001b[39m*\u001b[39;49margs, \u001b[39m*\u001b[39;49m\u001b[39m*\u001b[39;49mkwargs)\n\u001b[1;32m   1543\u001b[0m \u001b[39mtry\u001b[39;00m:\n\u001b[1;32m   1544\u001b[0m     result \u001b[39m=\u001b[39m \u001b[39mNone\u001b[39;00m\n",
      "File \u001b[0;32m~/Desktop/python/Github/spotify-user-engagement/.venv/lib/python3.12/site-packages/torch_geometric/nn/conv/gcn_conv.py:241\u001b[0m, in \u001b[0;36mGCNConv.forward\u001b[0;34m(self, x, edge_index, edge_weight)\u001b[0m\n\u001b[1;32m    239\u001b[0m cache \u001b[39m=\u001b[39m \u001b[39mself\u001b[39m\u001b[39m.\u001b[39m_cached_edge_index\n\u001b[1;32m    240\u001b[0m \u001b[39mif\u001b[39;00m cache \u001b[39mis\u001b[39;00m \u001b[39mNone\u001b[39;00m:\n\u001b[0;32m--> 241\u001b[0m     edge_index, edge_weight \u001b[39m=\u001b[39m gcn_norm(  \u001b[39m# yapf: disable\u001b[39;49;00m\n\u001b[1;32m    242\u001b[0m         edge_index, edge_weight, x\u001b[39m.\u001b[39;49msize(\u001b[39mself\u001b[39;49m\u001b[39m.\u001b[39;49mnode_dim),\n\u001b[1;32m    243\u001b[0m         \u001b[39mself\u001b[39;49m\u001b[39m.\u001b[39;49mimproved, \u001b[39mself\u001b[39;49m\u001b[39m.\u001b[39;49madd_self_loops, \u001b[39mself\u001b[39;49m\u001b[39m.\u001b[39;49mflow, x\u001b[39m.\u001b[39;49mdtype)\n\u001b[1;32m    244\u001b[0m     \u001b[39mif\u001b[39;00m \u001b[39mself\u001b[39m\u001b[39m.\u001b[39mcached:\n\u001b[1;32m    245\u001b[0m         \u001b[39mself\u001b[39m\u001b[39m.\u001b[39m_cached_edge_index \u001b[39m=\u001b[39m (edge_index, edge_weight)\n",
      "File \u001b[0;32m~/Desktop/python/Github/spotify-user-engagement/.venv/lib/python3.12/site-packages/torch_geometric/nn/conv/gcn_conv.py:99\u001b[0m, in \u001b[0;36mgcn_norm\u001b[0;34m(edge_index, edge_weight, num_nodes, improved, add_self_loops, flow, dtype)\u001b[0m\n\u001b[1;32m     96\u001b[0m num_nodes \u001b[39m=\u001b[39m maybe_num_nodes(edge_index, num_nodes)\n\u001b[1;32m     98\u001b[0m \u001b[39mif\u001b[39;00m add_self_loops:\n\u001b[0;32m---> 99\u001b[0m     edge_index, edge_weight \u001b[39m=\u001b[39m add_remaining_self_loops(\n\u001b[1;32m    100\u001b[0m         edge_index, edge_weight, fill_value, num_nodes)\n\u001b[1;32m    102\u001b[0m \u001b[39mif\u001b[39;00m edge_weight \u001b[39mis\u001b[39;00m \u001b[39mNone\u001b[39;00m:\n\u001b[1;32m    103\u001b[0m     edge_weight \u001b[39m=\u001b[39m torch\u001b[39m.\u001b[39mones((edge_index\u001b[39m.\u001b[39msize(\u001b[39m1\u001b[39m), ), dtype\u001b[39m=\u001b[39mdtype,\n\u001b[1;32m    104\u001b[0m                              device\u001b[39m=\u001b[39medge_index\u001b[39m.\u001b[39mdevice)\n",
      "File \u001b[0;32m~/Desktop/python/Github/spotify-user-engagement/.venv/lib/python3.12/site-packages/torch_geometric/utils/loop.py:651\u001b[0m, in \u001b[0;36madd_remaining_self_loops\u001b[0;34m(edge_index, edge_attr, fill_value, num_nodes)\u001b[0m\n\u001b[1;32m    647\u001b[0m     is_undirected \u001b[39m=\u001b[39m edge_index\u001b[39m.\u001b[39mis_undirected\n\u001b[1;32m    649\u001b[0m edge_index \u001b[39m=\u001b[39m edge_index[:, mask]\n\u001b[0;32m--> 651\u001b[0m \u001b[39mif\u001b[39;00m \u001b[39mnot\u001b[39;00m torch\u001b[39m.\u001b[39;49mjit\u001b[39m.\u001b[39;49mis_scripting() \u001b[39mand\u001b[39;00m \u001b[39misinstance\u001b[39m(edge_index, EdgeIndex):\n\u001b[1;32m    652\u001b[0m     edge_index\u001b[39m.\u001b[39m_is_undirected \u001b[39m=\u001b[39m is_undirected\n\u001b[1;32m    654\u001b[0m edge_index \u001b[39m=\u001b[39m torch\u001b[39m.\u001b[39mcat([edge_index, loop_index], dim\u001b[39m=\u001b[39m\u001b[39m1\u001b[39m)\n",
      "File \u001b[0;32m~/Desktop/python/Github/spotify-user-engagement/.venv/lib/python3.12/site-packages/torch/_jit_internal.py:1120\u001b[0m, in \u001b[0;36mis_scripting\u001b[0;34m()\u001b[0m\n\u001b[1;32m   1116\u001b[0m \u001b[39mfor\u001b[39;00m i \u001b[39min\u001b[39;00m \u001b[39mrange\u001b[39m(\u001b[39m2\u001b[39m, \u001b[39m7\u001b[39m):\n\u001b[1;32m   1117\u001b[0m     \u001b[39mglobals\u001b[39m()[\u001b[39mf\u001b[39m\u001b[39m\"\u001b[39m\u001b[39mBroadcastingList\u001b[39m\u001b[39m{\u001b[39;00mi\u001b[39m}\u001b[39;00m\u001b[39m\"\u001b[39m] \u001b[39m=\u001b[39m BroadcastingList1\n\u001b[0;32m-> 1120\u001b[0m \u001b[39mdef\u001b[39;00m \u001b[39mis_scripting\u001b[39m() \u001b[39m-\u001b[39m\u001b[39m>\u001b[39m \u001b[39mbool\u001b[39m:\n\u001b[1;32m   1121\u001b[0m \u001b[39m    \u001b[39m\u001b[39mr\u001b[39m\u001b[39m\"\"\"\u001b[39;00m\n\u001b[1;32m   1122\u001b[0m \u001b[39m    Function that returns True when in compilation and False otherwise. This\u001b[39;00m\n\u001b[1;32m   1123\u001b[0m \u001b[39m    is useful especially with the @unused decorator to leave code in your\u001b[39;00m\n\u001b[0;32m   (...)\u001b[0m\n\u001b[1;32m   1137\u001b[0m \u001b[39m              return unsupported_linear_op(x)\u001b[39;00m\n\u001b[1;32m   1138\u001b[0m \u001b[39m    \"\"\"\u001b[39;00m\n\u001b[1;32m   1139\u001b[0m     \u001b[39mreturn\u001b[39;00m \u001b[39mFalse\u001b[39;00m\n",
      "\u001b[0;31mKeyboardInterrupt\u001b[0m: "
     ]
    }
   ],
   "source": [
    "print(\"Script started.\")\n",
    "model_training(epochs=1)\n",
    "model_evaluation_mc_dropout()\n",
    "uncertain_samples = select_most_uncertain_samples()\n",
    "update_model_with_active_learning(uncertain_samples)\n",
    "print(\"Script completed.\")"
   ]
  },
  {
   "cell_type": "markdown",
   "metadata": {},
   "source": [
    "### Setting up Spotify API"
   ]
  },
  {
   "cell_type": "code",
   "execution_count": null,
   "metadata": {},
   "outputs": [],
   "source": [
    "dotenv.load_dotenv()\n",
    "# Load Spotify API credentials\n",
    "sp = spotipy.Spotify(auth_manager=SpotifyClientCredentials(\n",
    "    client_id=os.getenv('SPOTIPY_CLIENT_ID'),\n",
    "    client_secret=os.getenv('SPOTIFY_CLIENT_SECRET')\n",
    "))"
   ]
  },
  {
   "cell_type": "code",
   "execution_count": null,
   "metadata": {},
   "outputs": [],
   "source": [
    "playlists = {\n",
    "    \"Today's Top Hits\": \"37i9dQZF1DXcBWIGoYBM5M\",\n",
    "    \"Global Top 50\": \"37i9dQZEVXbMDoHDwVN2tF\",\n",
    "    \"Global Viral 50\": \"37i9dQZEVXbLiRSasKsNU9\",\n",
    "    \"New Music Friday\": \"37i9dQZF1DX4JAvHpjipBk\",\n",
    "    \"Hot Country\": \"37i9dQZF1DX1lVhptIYRda\",\n",
    "    \"Beast Mode\": \"37i9dQZF1DX76Wlfdnj7AP\",\n",
    "    \"Chill Hits\": \"37i9dQZF1DX4WYpdgoIcn6\",\n",
    "    \"Soft Pop Hits\": \"37i9dQZF1DX3YSRoSdA634\",\n",
    "    \"Good Vibes\": \"37i9dQZF1DX6GwdWRQMQpq\",\n",
    "    \"Evening Acoustic\": \"37i9dQZF1DXbJmiEZs5p2t\",\n",
    "    \"All Out 80s\": \"37i9dQZF1DX4UtSsGT1Sbe\",\n",
    "    \"All Out 90s\": \"37i9dQZF1DXbTxeAdrVG2l\",\n",
    "    \"Your Favorite Coffeehouse\": \"37i9dQZF1DX6ziVCJnEm59\",\n",
    "    \"Acoustic Hits\": \"37i9dQZF1DX4E3UdUs7fUx\",\n",
    "    \"Deep Focus\": \"37i9dQZF1DWZeKCadgRdKQ\",\n",
    "    \"Throwback Thursday\": \"37i9dQZF1DX4UtSsGT1Sbe\",\n",
    "    \"Peaceful Guitar\": \"37i9dQZF1DX0jgyAiPl8Af\",\n",
    "    \"Classic Road Trip Songs\": \"37i9dQZF1DWSThc8QnxalT\",\n",
    "    \"Relax & Unwind\": \"37i9dQZF1DX6MOzVr6s0AO\",\n",
    "    \"Top 50 USA\": \"37i9dQZEVXbLRQDuF5jeBp\",\n",
    "    \"Viral 50 USA\": \"37i9dQZEVXbKuaTI1Z1Afx\",\n",
    "    \"Top 50 UK\": \"37i9dQZEVXbLnolsZ8PSNw\",\n",
    "    \"Viral 50 UK\": \"37i9dQZEVXbL3DLHfQeDmV\",\n",
    "    \"Top 50 Brazil\": \"37i9dQZEVXbMXbN3EUUhlg\",\n",
    "    \"Viral 50 Brazil\": \"37i9dQZEVXbMMy2roB9myp\",\n",
    "    \"Top 50 France\": \"37i9dQZEVXbIPWwFssbupI\",\n",
    "    \"Viral 50 France\": \"37i9dQZEVXbIZM8SIgu6df\",\n",
    "    \"Top 50 Japan\": \"37i9dQZEVXbKXQ4mDTEBXq\",\n",
    "    \"Viral 50 Japan\": \"37i9dQZEVXbKqiTGXuCOsB\",\n",
    "    \"Top 50 India\": \"37i9dQZEVXbLZ52XmnySJg\",\n",
    "    \"Viral 50 India\": \"37i9dQZEVXbMWDif5SCBJq\",\n",
    "    \"Top 50 Italy\": \"37i9dQZEVXbIQnj7RRhdSX\",\n",
    "    \"Viral 50 Italy\": \"37i9dQZEVXbKbvcwe5owJ1\",\n",
    "    \"Top 50 South Korea\": \"37i9dQZEVXbJZyENOWUFo7\",\n",
    "    \"Viral 50 South Korea\": \"37i9dQZEVXbNxXF4SkHj9F\",\n",
    "    \"Top 50 Australia\": \"37i9dQZEVXbJPcfkRz0wJ0\",\n",
    "    \"Viral 50 Australia\": \"37i9dQZEVXbK4fwx2r07XW\",\n",
    "    \"Top 50 Germany\": \"37i9dQZEVXbJiZcmkrIHGU\",\n",
    "    \"Viral 50 Germany\": \"37i9dQZEVXbKglSdDwFtE9\"\n",
    "}\n"
   ]
  },
  {
   "cell_type": "markdown",
   "metadata": {},
   "source": [
    "### Spotify API Functions"
   ]
  },
  {
   "cell_type": "code",
   "execution_count": null,
   "metadata": {},
   "outputs": [],
   "source": [
    "def get_tracks(playlist_id):\n",
    "    try:\n",
    "        results = sp.playlist_tracks(playlist_id)\n",
    "        tracks = results['items']\n",
    "        \n",
    "        while results['next']:\n",
    "            results = sp.next(results)\n",
    "            tracks.extend(results['items'])\n",
    "        return tracks\n",
    "    except spotipy.exceptions.SpotifyException as e:\n",
    "        # print(f\"Error fetching playlist {playlist_id}: {e}\") # Commented out for easy debugging as auto error message showed anyways\n",
    "        return []\n",
    "\n",
    "def generate_playlist_data():\n",
    "    \"\"\"getting \"\"\"\n",
    "    song_data = []\n",
    "    playlist_data = []\n",
    "    for playlist_name, playlist_id in playlists.items():\n",
    "        tracks = get_tracks(playlist_id)\n",
    "        for song in tracks:\n",
    "            track = song.get('track')\n",
    "            if track is not None:  # Check if track is not None\n",
    "                song_data.append({\n",
    "                    'song_id': track.get('id'),\n",
    "                    'title': track.get('name'),\n",
    "                    'artist': track['artists'][0]['name'],\n",
    "                    'album': track['album']['name'],\n",
    "                    'duration': track['duration_ms'] // 1000,  # convert ms to seconds\n",
    "                    'popularity': track['popularity'],\n",
    "                    'release_date': track['album']['release_date']\n",
    "                })\n",
    "\n",
    "                playlist_data.append({\n",
    "                    'playlist_name': playlist_name,\n",
    "                    'song_id': track.get('id'),\n",
    "                })\n",
    "        \n",
    "        # Respect API limit\n",
    "        time.sleep(2)\n",
    "    \n",
    "    song_df = pd.DataFrame(song_data)\n",
    "    playlist_df = pd.DataFrame(playlist_data)\n",
    "    return song_df, playlist_df"
   ]
  }
 ],
 "metadata": {
  "kernelspec": {
   "display_name": ".venv",
   "language": "python",
   "name": "python3"
  },
  "language_info": {
   "codemirror_mode": {
    "name": "ipython",
    "version": 3
   },
   "file_extension": ".py",
   "mimetype": "text/x-python",
   "name": "python",
   "nbconvert_exporter": "python",
   "pygments_lexer": "ipython3",
   "version": "3.12.3"
  }
 },
 "nbformat": 4,
 "nbformat_minor": 2
}
