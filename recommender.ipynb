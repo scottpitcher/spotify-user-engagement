{
 "cells": [
  {
   "cell_type": "markdown",
   "metadata": {},
   "source": [
    "# Spotify GCN Model Recommender in PyTorch"
   ]
  },
  {
   "cell_type": "markdown",
   "metadata": {},
   "source": [
    "### Importing Packages + Device Declaration"
   ]
  },
  {
   "cell_type": "code",
   "execution_count": 21,
   "metadata": {},
   "outputs": [
    {
     "name": "stdout",
     "output_type": "stream",
     "text": [
      "Device: mps\n"
     ]
    }
   ],
   "source": [
    "import pandas as pd\n",
    "import numpy as np\n",
    "import torch\n",
    "import torch.nn as nn\n",
    "from torch_geometric.data import Data\n",
    "from torch_geometric.utils import from_scipy_sparse_matrix\n",
    "from torch_geometric.nn import GCNConv\n",
    "import torch.nn.functional as F\n",
    "from scipy.sparse import coo_matrix\n",
    "from sklearn.model_selection import train_test_split\n",
    "from torch.utils.data import Dataset, DataLoader\n",
    "import random\n",
    "import os\n",
    "\n",
    "# Set device to mps if available\n",
    "device = 'mps' if torch.backends.mps.is_available() else 'cuda' if torch.cuda.is_available() else 'cpu'\n",
    "print(\"Device:\", device)"
   ]
  },
  {
   "cell_type": "markdown",
   "metadata": {},
   "source": [
    "### Data Preprocessing"
   ]
  },
  {
   "cell_type": "code",
   "execution_count": 22,
   "metadata": {},
   "outputs": [
    {
     "name": "stdout",
     "output_type": "stream",
     "text": [
      "Loading interaction data...\n",
      "Data loaded.\n",
      "Creating mappings for users and items...\n",
      "Mappings created.\n",
      "Creating interaction matrix...\n",
      "Interaction matrix created.\n"
     ]
    }
   ],
   "source": [
    "print(\"Loading interaction data...\")\n",
    "interaction_data = pd.read_csv('data/user/user_data.csv')\n",
    "print(\"Data loaded.\")\n",
    "\n",
    "# Creating mappings for users and items\n",
    "print(\"Creating mappings for users and items...\")\n",
    "user_mapping = {user: idx for idx, user in enumerate(interaction_data['user_id'].unique())}\n",
    "item_mapping = {item: idx for idx, item in enumerate(interaction_data['song_id'].unique())}\n",
    "interaction_data['user_id'] = interaction_data['user_id'].map(user_mapping)\n",
    "interaction_data['song_id'] = interaction_data['song_id'].map(item_mapping)\n",
    "print(\"Mappings created.\")\n",
    "\n",
    "# Creating the interaction matrix based on the entire dataset\n",
    "print(\"Creating interaction matrix...\")\n",
    "rows = interaction_data['user_id'].values\n",
    "cols = interaction_data['song_id'].values\n",
    "data = interaction_data['play_count'].values\n",
    "interaction_matrix = coo_matrix((data, (rows, cols)), shape=(len(user_mapping), len(item_mapping)))\n",
    "edge_index, edge_attr = from_scipy_sparse_matrix(interaction_matrix)\n",
    "edge_index = edge_index.to(device)\n",
    "print(\"Interaction matrix created.\")"
   ]
  },
  {
   "cell_type": "code",
   "execution_count": 23,
   "metadata": {},
   "outputs": [
    {
     "name": "stdout",
     "output_type": "stream",
     "text": [
      "Splitting data into training and testing sets...\n",
      "Data split completed.\n"
     ]
    }
   ],
   "source": [
    "# Splitting data into training and testing sets\n",
    "print(\"Splitting data into training and testing sets...\")\n",
    "train_data, test_data = train_test_split(interaction_data, test_size=0.2, random_state=42)\n",
    "print(\"Data split completed.\")\n",
    "\n",
    "# Variables for train function\n",
    "train_rows = train_data['user_id'].values\n",
    "train_cols = train_data['song_id'].values\n",
    "train_data_values = train_data['play_count'].values\n",
    "\n",
    "# Variables for test function\n",
    "test_rows = test_data['user_id'].values\n",
    "test_cols = test_data['song_id'].values\n",
    "test_data_values = test_data['play_count'].values"
   ]
  },
  {
   "cell_type": "code",
   "execution_count": 24,
   "metadata": {},
   "outputs": [
    {
     "name": "stdout",
     "output_type": "stream",
     "text": [
      "Creating datasets...\n",
      "Datasets created.\n",
      "Creating DataLoaders...\n",
      "DataLoaders created.\n"
     ]
    }
   ],
   "source": [
    "class InteractionDataset(Dataset):\n",
    "    def __init__(self, user_ids, item_ids, labels):\n",
    "        self.user_ids = user_ids\n",
    "        self.item_ids = item_ids\n",
    "        self.labels = labels\n",
    "\n",
    "    def __len__(self):\n",
    "        return len(self.user_ids)\n",
    "\n",
    "    def __getitem__(self, idx):\n",
    "        user_id = self.user_ids[idx]\n",
    "        item_id = self.item_ids[idx]\n",
    "        label = self.labels[idx]\n",
    "        return user_id, item_id, label\n",
    "\n",
    "# Creating the train and test datasets\n",
    "print(\"Creating datasets...\")\n",
    "train_dataset = InteractionDataset(train_rows, train_cols, train_data_values)\n",
    "test_dataset = InteractionDataset(test_rows, test_cols, test_data_values)\n",
    "print(\"Datasets created.\")\n",
    "\n",
    "# Creating the DataLoaders\n",
    "print(\"Creating DataLoaders...\")\n",
    "train_loader = DataLoader(train_dataset, batch_size=64, shuffle=True, num_workers=0)\n",
    "test_loader = DataLoader(test_dataset, batch_size=64, shuffle=False, num_workers=0)\n",
    "print(\"DataLoaders created.\")"
   ]
  },
  {
   "cell_type": "code",
   "execution_count": 25,
   "metadata": {},
   "outputs": [],
   "source": [
    "# Creating the model\n",
    "class GCNRecommender(nn.Module):\n",
    "    def __init__(self, num_users, num_items, latent_dim):\n",
    "        super(GCNRecommender, self).__init__()\n",
    "        self.user_embedding = nn.Embedding(num_users, latent_dim)\n",
    "        self.item_embedding = nn.Embedding(num_items, latent_dim)\n",
    "        self.conv1 = GCNConv(latent_dim, 128)                       \n",
    "        self.conv2 = GCNConv(128, 64)                               \n",
    "        self.fc = nn.Linear(64 * 2, 1)\n",
    "        self.dropout = nn.Dropout(0.4)\n",
    "\n",
    "    def forward(self, user, item, edge_index):\n",
    "        user_embed = self.user_embedding(user)                      # (batch_size, latent_dim)\n",
    "        item_embed = self.item_embedding(item)                      # (batch_size, latent_dim)\n",
    "        x = torch.cat([user_embed, item_embed], dim=0)              # (batch_size * 2, latent_dim)\n",
    "        x = F.relu(self.conv1(x, edge_index))                       # (batch_size * 2, 128)\n",
    "        x = F.relu(self.conv2(x, edge_index))                       # (batch_size * 2, 64)\n",
    "        x = self.dropout(x)\n",
    "        user_gcn_embed = x[:user.size(0)]                           # (batch_size, 64)\n",
    "        item_gcn_embed = x[user.size(0):]                           # (batch_size, 64)\n",
    "        \n",
    "        x = torch.cat([user_gcn_embed, item_gcn_embed], dim=1)      # (batch_size, 128)\n",
    "        x = self.fc(x)                                              # (batch_size, 1)\n",
    "        return x\n"
   ]
  },
  {
   "cell_type": "code",
   "execution_count": 26,
   "metadata": {},
   "outputs": [],
   "source": [
    "# Definine model metrics (loss, optimization) and hyperparameters (num_users, num_items, latent_dim)\n",
    "num_users = len(user_mapping)\n",
    "num_items = len(item_mapping)\n",
    "latent_dim = 16\n",
    "criterion = nn.MSELoss()"
   ]
  },
  {
   "cell_type": "markdown",
   "metadata": {},
   "source": [
    "Double checking that the model is outputting the correct shape "
   ]
  },
  {
   "cell_type": "code",
   "execution_count": 27,
   "metadata": {},
   "outputs": [
    {
     "name": "stdout",
     "output_type": "stream",
     "text": [
      "torch.Size([64, 1])\n"
     ]
    }
   ],
   "source": [
    "model = GCNRecommender(num_users, num_items, latent_dim=16).to(device)\n",
    "optimizer = torch.optim.Adam(model.parameters(), lr=0.01)\n",
    "criterion = nn.MSELoss()\n",
    "\n",
    "for user_id, item_id, label in train_loader:\n",
    "    user_id, item_id, label = user_id.to(device), item_id.to(device), label.to(device)\n",
    "    outputs = model(user_id, item_id, edge_index)\n",
    "    print(outputs.shape)  # Should be (batch_size, 1)\n",
    "    break"
   ]
  },
  {
   "cell_type": "code",
   "execution_count": 28,
   "metadata": {},
   "outputs": [],
   "source": [
    "def model_training(model, epochs):\n",
    "    print(\"Starting training...\")\n",
    "    loss_dict = {}\n",
    "    for epoch in range(epochs):\n",
    "        model.train()\n",
    "        epoch_loss = 0\n",
    "        for user, item, label in train_loader:\n",
    "            user = user.to(device)\n",
    "            item = item.to(device)\n",
    "            label = label.float().to(device)\n",
    "            optimizer.zero_grad()\n",
    "            outputs = model(user, item, edge_index).squeeze()\n",
    "            loss = criterion(outputs, label)\n",
    "            loss.backward()\n",
    "            optimizer.step()\n",
    "            epoch_loss += loss.item()\n",
    "        avg_epoch_loss = epoch_loss / len(train_loader)\n",
    "        print(f'Epoch {epoch}, Loss: {avg_epoch_loss}')\n",
    "        loss_dict[epoch] = avg_epoch_loss\n",
    "        if device == 'mps':\n",
    "            torch.mps.empty_cache()\n",
    "        else:\n",
    "            torch.cuda.empty_cache()\n",
    "    torch.save(model.state_dict(), 'models/gcn_recommender_model.pth')\n",
    "    return model, loss_dict"
   ]
  },
  {
   "cell_type": "code",
   "execution_count": 29,
   "metadata": {},
   "outputs": [],
   "source": [
    "def model_evaluation(model, test_loader):\n",
    "    model.eval()  # Set model to evaluation mode\n",
    "    criterion = nn.MSELoss()\n",
    "    total_loss = 0\n",
    "    with torch.no_grad():\n",
    "        for user, item, label in test_loader:\n",
    "            user = user.to(device)\n",
    "            item = item.to(device)\n",
    "            label = label.float().to(device)  # Ensure labels are of float type\n",
    "            outputs = model(user, item, edge_index).squeeze()\n",
    "            loss = criterion(outputs, label)\n",
    "            total_loss += loss.item()\n",
    "    avg_loss = total_loss / len(test_loader)\n",
    "    rmse = np.sqrt(avg_loss)\n",
    "    print(f'Standard Evaluation RMSE: {rmse}')\n",
    "    return rmse"
   ]
  },
  {
   "cell_type": "code",
   "execution_count": 30,
   "metadata": {},
   "outputs": [],
   "source": [
    "# Defining model evaluation function with Monte Carlo Dropout\n",
    "def model_evaluation_mc_dropout(model, n_samples=15):\n",
    "    \"\"\"\n",
    "    evaluating the model using Monte-Carlo Dropout to estimate prediction uncertainty.\n",
    "\n",
    "    Takes in:\n",
    "    - n_samples: Number of forward passes to perform for uncertainty estimation. This is the amount of estimations per sample point.\n",
    "\n",
    "    Returns:\n",
    "    - mean_predictions: Mean of the predictions from multiple forward passes.\n",
    "    - std_predictions: Standard deviation of the predictions from multiple forward passes.\n",
    "    \"\"\"\n",
    "    model.train()  # Enable dropout during inference\n",
    "    all_predictions = []\n",
    "    for user, item, _ in test_loader:\n",
    "        user = user.to(device)\n",
    "        item = item.to(device)\n",
    "        predictions = []\n",
    "        for _ in range(n_samples):\n",
    "            with torch.no_grad():\n",
    "                output = model(user, item, edge_index).squeeze()\n",
    "                predictions.append(output.cpu().numpy())\n",
    "        all_predictions.append(np.stack(predictions, axis=1))\n",
    "        \n",
    "    all_predictions = np.concatenate(all_predictions, axis=0)\n",
    "    mean_predictions = np.mean(all_predictions, axis=1)\n",
    "    std_predictions = np.std(all_predictions, axis=1)\n",
    "    return mean_predictions, std_predictions"
   ]
  },
  {
   "cell_type": "code",
   "execution_count": 31,
   "metadata": {},
   "outputs": [],
   "source": [
    "# Select most uncertain samples for labeling\n",
    "def select_most_uncertain_samples(std_predictions, top_k=500):\n",
    "    uncertainties = std_predictions\n",
    "    uncertain_indices = np.argsort(-uncertainties)[:top_k]\n",
    "    return [(test_rows[i], test_cols[i]) for i in uncertain_indices]\n"
   ]
  },
  {
   "cell_type": "code",
   "execution_count": 32,
   "metadata": {},
   "outputs": [],
   "source": [
    "def update_model_with_active_learning(model, uncertain_samples):\n",
    "    optimizer = torch.optim.Adam(model.parameters(), lr=0.01)\n",
    "    criterion = nn.MSELoss()\n",
    "    model.train()  # Set the model to training mode\n",
    "\n",
    "    for user, item in uncertain_samples:\n",
    "        user = torch.tensor([user], dtype=torch.long).to(device)\n",
    "        item = torch.tensor([item], dtype=torch.long).to(device)\n",
    "        # Simulating user feedback as actual play_count\n",
    "        actual_play_count = interaction_data[(interaction_data['user_id'] == user.item()) & \n",
    "                                             (interaction_data['song_id'] == item.item())]['play_count'].values[0]\n",
    "        optimizer.zero_grad()\n",
    "        outputs = model(user, item, edge_index).squeeze()\n",
    "        loss = criterion(outputs, torch.tensor([actual_play_count], dtype=torch.float).to(device))\n",
    "        loss.backward()\n",
    "        optimizer.step()\n",
    "\n",
    "    # Clear GPU cache\n",
    "    if device == 'mps':\n",
    "        torch.mps.empty_cache()\n",
    "    else:\n",
    "        torch.cuda.empty_cache()\n",
    "    torch.save(model.state_dict(), 'gcn_recommender_model_AL.pth')\n",
    "\n",
    "    return model"
   ]
  },
  {
   "cell_type": "code",
   "execution_count": 35,
   "metadata": {},
   "outputs": [
    {
     "name": "stdout",
     "output_type": "stream",
     "text": [
      "Script started.\n",
      "Initialising Model...\n",
      "Loading existing model...\n",
      "Evaluating Model...\n",
      "Standard Evaluation RMSE: 18.633604857569196\n",
      "Performing Monte Carlo Dropout...\n",
      "Prediction 1: 0.084018774330616, Uncertainty: 0.000191554514458403\n",
      "Prediction 2: 0.08428670465946198, Uncertainty: 0.000645314808934927\n",
      "Prediction 3: 0.0841139480471611, Uncertainty: 0.0003035986446775496\n",
      "Prediction 4: 0.08388087898492813, Uncertainty: 0.00019261296256445348\n",
      "Prediction 5: 0.08411452174186707, Uncertainty: 0.0002500434929970652\n",
      "Prediction 6: 0.08413247764110565, Uncertainty: 0.0002607597562018782\n",
      "Prediction 7: 0.08424779772758484, Uncertainty: 0.00023870817676652223\n",
      "Prediction 8: 0.0840759351849556, Uncertainty: 0.00024242023937404156\n",
      "Prediction 9: 0.0841313824057579, Uncertainty: 0.00019001538748852909\n",
      "Prediction 10: 0.08457323908805847, Uncertainty: 0.0004915619501844049\n",
      "Selecting most uncertain points...\n",
      "Updating model with most uncertain points...\n"
     ]
    },
    {
     "name": "stderr",
     "output_type": "stream",
     "text": [
      "/Users/scottpitcher/Desktop/python/Github/spotify-user-engagement/.venv/lib/python3.12/site-packages/torch/nn/modules/loss.py:535: UserWarning: Using a target size (torch.Size([1])) that is different to the input size (torch.Size([])). This will likely lead to incorrect results due to broadcasting. Please ensure they have the same size.\n",
      "  return F.mse_loss(input, target, reduction=self.reduction)\n"
     ]
    },
    {
     "name": "stdout",
     "output_type": "stream",
     "text": [
      "Evaluating Final Model...\n",
      "Standard Evaluation RMSE: 56.11326021284721\n",
      "Script completed.\n"
     ]
    }
   ],
   "source": [
    "print(\"Script started.\")\n",
    "print(\"Initialising Model...\")\n",
    "init_model = GCNRecommender(num_users, num_items, latent_dim=16).to(device)\n",
    "optimizer = torch.optim.Adam(model.parameters(), lr=0.01)\n",
    "criterion = nn.MSELoss()\n",
    "\n",
    "if not os.path.exists(\"models/gcn_recommender_model.pth\"):\n",
    "    trained_model, loss_dict = model_training(model = init_model, epochs=3)\n",
    "else:\n",
    "    print(\"Loading existing model...\")\n",
    "    init_model.load_state_dict(torch.load(\"models/gcn_recommender_model.pth\"))\n",
    "    trained_model = init_model\n",
    "\n",
    "print(\"Evaluating Model...\")\n",
    "model_evaluation(model = trained_model, test_loader=test_loader)\n",
    "\n",
    "print(\"Performing Monte Carlo Dropout...\")\n",
    "mean_predictions, std_predictions = model_evaluation_mc_dropout(model = trained_model)\n",
    "\n",
    "for i in range(1, 11):  # Print the first 10 predictions with uncertainties\n",
    "    print(f'Prediction {i}: {mean_predictions[i]}, Uncertainty: {std_predictions[i]}')\n",
    "\n",
    "print(\"Selecting most uncertain points...\")\n",
    "uncertain_samples = select_most_uncertain_samples(std_predictions=std_predictions, top_k=1000)\n",
    "\n",
    "print(\"Updating model with most uncertain points...\")\n",
    "AL_model = update_model_with_active_learning(model=trained_model, uncertain_samples=uncertain_samples)\n",
    "\n",
    "# Remove uncertain samples from the test set\n",
    "remaining_test_indices = [i for i in range(len(test_rows)) if (test_rows[i], test_cols[i], test_data_values[i]) not in uncertain_samples]\n",
    "new_test_rows = test_rows[remaining_test_indices]\n",
    "\n",
    "new_test_cols = test_cols[remaining_test_indices]\n",
    "new_test_data_values = test_data_values[remaining_test_indices]\n",
    "\n",
    "# Create a new test dataset and test loader without the uncertain samples\n",
    "new_test_dataset = InteractionDataset(new_test_rows, new_test_cols, new_test_data_values)\n",
    "new_test_loader = DataLoader(new_test_dataset, batch_size=64, shuffle=False, num_workers=0)\n",
    "\n",
    "print(\"Evaluating Final Model...\")\n",
    "model_evaluation(model = AL_model, test_loader=new_test_loader)\n",
    "print(\"Script completed.\")"
   ]
  },
  {
   "cell_type": "markdown",
   "metadata": {},
   "source": [
    "### Setting up Spotify API"
   ]
  },
  {
   "cell_type": "code",
   "execution_count": null,
   "metadata": {},
   "outputs": [],
   "source": [
    "import dotenv\n",
    "import spotipy\n",
    "import os\n",
    "from spotipy import SpotifyClientCredentials\n",
    "dotenv.load_dotenv()\n",
    "# Load Spotify API credentials\n",
    "sp = spotipy.Spotify(auth_manager=SpotifyClientCredentials(\n",
    "    client_id=os.getenv('SPOTIPY_CLIENT_ID'),\n",
    "    client_secret=os.getenv('SPOTIFY_CLIENT_SECRET')\n",
    "))"
   ]
  },
  {
   "cell_type": "code",
   "execution_count": null,
   "metadata": {},
   "outputs": [],
   "source": [
    "playlists = {\n",
    "    \"Today's Top Hits\": \"37i9dQZF1DXcBWIGoYBM5M\",\n",
    "    \"Global Top 50\": \"37i9dQZEVXbMDoHDwVN2tF\",\n",
    "    \"Global Viral 50\": \"37i9dQZEVXbLiRSasKsNU9\",\n",
    "    \"New Music Friday\": \"37i9dQZF1DX4JAvHpjipBk\",\n",
    "    \"Hot Country\": \"37i9dQZF1DX1lVhptIYRda\",\n",
    "    \"Beast Mode\": \"37i9dQZF1DX76Wlfdnj7AP\",\n",
    "    \"Chill Hits\": \"37i9dQZF1DX4WYpdgoIcn6\",\n",
    "    \"Soft Pop Hits\": \"37i9dQZF1DX3YSRoSdA634\",\n",
    "    \"Good Vibes\": \"37i9dQZF1DX6GwdWRQMQpq\",\n",
    "    \"Evening Acoustic\": \"37i9dQZF1DXbJmiEZs5p2t\",\n",
    "    \"All Out 80s\": \"37i9dQZF1DX4UtSsGT1Sbe\",\n",
    "    \"All Out 90s\": \"37i9dQZF1DXbTxeAdrVG2l\",\n",
    "    \"Your Favorite Coffeehouse\": \"37i9dQZF1DX6ziVCJnEm59\",\n",
    "    \"Acoustic Hits\": \"37i9dQZF1DX4E3UdUs7fUx\",\n",
    "    \"Deep Focus\": \"37i9dQZF1DWZeKCadgRdKQ\",\n",
    "    \"Throwback Thursday\": \"37i9dQZF1DX4UtSsGT1Sbe\",\n",
    "    \"Peaceful Guitar\": \"37i9dQZF1DX0jgyAiPl8Af\",\n",
    "    \"Classic Road Trip Songs\": \"37i9dQZF1DWSThc8QnxalT\",\n",
    "    \"Relax & Unwind\": \"37i9dQZF1DX6MOzVr6s0AO\",\n",
    "    \"Top 50 USA\": \"37i9dQZEVXbLRQDuF5jeBp\",\n",
    "    \"Viral 50 USA\": \"37i9dQZEVXbKuaTI1Z1Afx\",\n",
    "    \"Top 50 UK\": \"37i9dQZEVXbLnolsZ8PSNw\",\n",
    "    \"Viral 50 UK\": \"37i9dQZEVXbL3DLHfQeDmV\",\n",
    "    \"Top 50 Brazil\": \"37i9dQZEVXbMXbN3EUUhlg\",\n",
    "    \"Viral 50 Brazil\": \"37i9dQZEVXbMMy2roB9myp\",\n",
    "    \"Top 50 France\": \"37i9dQZEVXbIPWwFssbupI\",\n",
    "    \"Viral 50 France\": \"37i9dQZEVXbIZM8SIgu6df\",\n",
    "    \"Top 50 Japan\": \"37i9dQZEVXbKXQ4mDTEBXq\",\n",
    "    \"Viral 50 Japan\": \"37i9dQZEVXbKqiTGXuCOsB\",\n",
    "    \"Top 50 India\": \"37i9dQZEVXbLZ52XmnySJg\",\n",
    "    \"Viral 50 India\": \"37i9dQZEVXbMWDif5SCBJq\",\n",
    "    \"Top 50 Italy\": \"37i9dQZEVXbIQnj7RRhdSX\",\n",
    "    \"Viral 50 Italy\": \"37i9dQZEVXbKbvcwe5owJ1\",\n",
    "    \"Top 50 South Korea\": \"37i9dQZEVXbJZyENOWUFo7\",\n",
    "    \"Viral 50 South Korea\": \"37i9dQZEVXbNxXF4SkHj9F\",\n",
    "    \"Top 50 Australia\": \"37i9dQZEVXbJPcfkRz0wJ0\",\n",
    "    \"Viral 50 Australia\": \"37i9dQZEVXbK4fwx2r07XW\",\n",
    "    \"Top 50 Germany\": \"37i9dQZEVXbJiZcmkrIHGU\",\n",
    "    \"Viral 50 Germany\": \"37i9dQZEVXbKglSdDwFtE9\"\n",
    "}\n"
   ]
  },
  {
   "cell_type": "markdown",
   "metadata": {},
   "source": [
    "### Spotify API Functions"
   ]
  },
  {
   "cell_type": "code",
   "execution_count": null,
   "metadata": {},
   "outputs": [],
   "source": [
    "def get_tracks(playlist_id):\n",
    "    try:\n",
    "        results = sp.playlist_tracks(playlist_id)\n",
    "        tracks = results['items']\n",
    "        \n",
    "        while results['next']:\n",
    "            results = sp.next(results)\n",
    "            tracks.extend(results['items'])\n",
    "        return tracks\n",
    "    except spotipy.exceptions.SpotifyException as e:\n",
    "        # print(f\"Error fetching playlist {playlist_id}: {e}\") # Commented out for easy debugging as auto error message showed anyways\n",
    "        return []\n",
    "\n",
    "def generate_playlist_data():\n",
    "    \"\"\"getting \"\"\"\n",
    "    song_data = []\n",
    "    playlist_data = []\n",
    "    for playlist_name, playlist_id in playlists.items():\n",
    "        tracks = get_tracks(playlist_id)\n",
    "        for song in tracks:\n",
    "            track = song.get('track')\n",
    "            if track is not None:  # Check if track is not None\n",
    "                song_data.append({\n",
    "                    'song_id': track.get('id'),\n",
    "                    'title': track.get('name'),\n",
    "                    'artist': track['artists'][0]['name'],\n",
    "                    'album': track['album']['name'],\n",
    "                    'duration': track['duration_ms'] // 1000,  # convert ms to seconds\n",
    "                    'popularity': track['popularity'],\n",
    "                    'release_date': track['album']['release_date']\n",
    "                })\n",
    "\n",
    "                playlist_data.append({\n",
    "                    'playlist_name': playlist_name,\n",
    "                    'song_id': track.get('id'),\n",
    "                })\n",
    "        \n",
    "        # Respect API limit\n",
    "        time.sleep(2)\n",
    "    \n",
    "    song_df = pd.DataFrame(song_data)\n",
    "    playlist_df = pd.DataFrame(playlist_data)\n",
    "    return song_df, playlist_df"
   ]
  }
 ],
 "metadata": {
  "kernelspec": {
   "display_name": ".venv",
   "language": "python",
   "name": "python3"
  },
  "language_info": {
   "codemirror_mode": {
    "name": "ipython",
    "version": 3
   },
   "file_extension": ".py",
   "mimetype": "text/x-python",
   "name": "python",
   "nbconvert_exporter": "python",
   "pygments_lexer": "ipython3",
   "version": "3.12.3"
  }
 },
 "nbformat": 4,
 "nbformat_minor": 2
}
