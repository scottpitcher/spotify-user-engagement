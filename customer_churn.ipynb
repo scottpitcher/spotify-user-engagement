{
 "cells": [
  {
   "cell_type": "markdown",
   "metadata": {},
   "source": [
    "## Customer Churn Prediction"
   ]
  },
  {
   "cell_type": "code",
   "execution_count": 1,
   "metadata": {},
   "outputs": [],
   "source": [
    "# Importing packages\n",
    "import pandas as pd\n",
    "from sklearn.model_selection import train_test_split, GridSearchCV\n",
    "\n",
    "from sklearn.ensemble import RandomForestClassifier\n",
    "from sklearn.metrics import accuracy_score, precision_score, recall_score, f1_score\n",
    "from sklearn.metrics import roc_curve, roc_auc_score, auc\n",
    "from sklearn.metrics import confusion_matrix\n",
    "import numpy as np\n",
    "import matplotlib.pyplot as plt"
   ]
  },
  {
   "cell_type": "markdown",
   "metadata": {},
   "source": [
    "#### Defining Churn for analysis\n",
    "Churn: (no interaction in the last 20 days) through T/F -> 1/0\n"
   ]
  },
  {
   "cell_type": "code",
   "execution_count": 2,
   "metadata": {},
   "outputs": [
    {
     "data": {
      "text/html": [
       "<div>\n",
       "<style scoped>\n",
       "    .dataframe tbody tr th:only-of-type {\n",
       "        vertical-align: middle;\n",
       "    }\n",
       "\n",
       "    .dataframe tbody tr th {\n",
       "        vertical-align: top;\n",
       "    }\n",
       "\n",
       "    .dataframe thead th {\n",
       "        text-align: right;\n",
       "    }\n",
       "</style>\n",
       "<table border=\"1\" class=\"dataframe\">\n",
       "  <thead>\n",
       "    <tr style=\"text-align: right;\">\n",
       "      <th></th>\n",
       "      <th>user_id</th>\n",
       "      <th>song_id</th>\n",
       "      <th>play_count</th>\n",
       "      <th>last_played</th>\n",
       "      <th>user_age</th>\n",
       "      <th>user_country</th>\n",
       "      <th>days_since_last_played</th>\n",
       "      <th>churn</th>\n",
       "    </tr>\n",
       "  </thead>\n",
       "  <tbody>\n",
       "    <tr>\n",
       "      <th>0</th>\n",
       "      <td>india_user_0</td>\n",
       "      <td>00Srvq2BtgG9afXY9kzB1V</td>\n",
       "      <td>27</td>\n",
       "      <td>2024-03-29 11:25:10.912694</td>\n",
       "      <td>20</td>\n",
       "      <td>india</td>\n",
       "      <td>66</td>\n",
       "      <td>0</td>\n",
       "    </tr>\n",
       "    <tr>\n",
       "      <th>1</th>\n",
       "      <td>india_user_0</td>\n",
       "      <td>01N3UDXUKUP6e2It26WAak</td>\n",
       "      <td>5</td>\n",
       "      <td>2024-05-14 11:25:10.912733</td>\n",
       "      <td>20</td>\n",
       "      <td>india</td>\n",
       "      <td>20</td>\n",
       "      <td>0</td>\n",
       "    </tr>\n",
       "    <tr>\n",
       "      <th>2</th>\n",
       "      <td>india_user_0</td>\n",
       "      <td>09CnYHiZ5jGT1wr1TXJ9Zt</td>\n",
       "      <td>6</td>\n",
       "      <td>2024-05-29 11:25:10.912735</td>\n",
       "      <td>20</td>\n",
       "      <td>india</td>\n",
       "      <td>5</td>\n",
       "      <td>0</td>\n",
       "    </tr>\n",
       "    <tr>\n",
       "      <th>3</th>\n",
       "      <td>india_user_0</td>\n",
       "      <td>0ClPIeT6MSgfSgQ9ZrJbAq</td>\n",
       "      <td>1</td>\n",
       "      <td>2024-04-27 11:25:10.912737</td>\n",
       "      <td>20</td>\n",
       "      <td>india</td>\n",
       "      <td>37</td>\n",
       "      <td>0</td>\n",
       "    </tr>\n",
       "    <tr>\n",
       "      <th>4</th>\n",
       "      <td>india_user_0</td>\n",
       "      <td>0CnlKa2jjIMzG0gLN1KZbD</td>\n",
       "      <td>14</td>\n",
       "      <td>2024-03-12 11:25:10.912738</td>\n",
       "      <td>20</td>\n",
       "      <td>india</td>\n",
       "      <td>83</td>\n",
       "      <td>0</td>\n",
       "    </tr>\n",
       "    <tr>\n",
       "      <th>5</th>\n",
       "      <td>india_user_0</td>\n",
       "      <td>0HGItm7Ox9AnHZbx26nkE4</td>\n",
       "      <td>12</td>\n",
       "      <td>2024-05-31 11:25:10.912739</td>\n",
       "      <td>20</td>\n",
       "      <td>india</td>\n",
       "      <td>3</td>\n",
       "      <td>0</td>\n",
       "    </tr>\n",
       "    <tr>\n",
       "      <th>6</th>\n",
       "      <td>india_user_0</td>\n",
       "      <td>0Jx0wecBc4647J4QMdmsY1</td>\n",
       "      <td>4</td>\n",
       "      <td>2024-03-25 11:25:10.912740</td>\n",
       "      <td>20</td>\n",
       "      <td>india</td>\n",
       "      <td>70</td>\n",
       "      <td>0</td>\n",
       "    </tr>\n",
       "    <tr>\n",
       "      <th>7</th>\n",
       "      <td>india_user_0</td>\n",
       "      <td>0LMwmV37RCmBO2so0szAFs</td>\n",
       "      <td>8</td>\n",
       "      <td>2024-03-29 11:25:10.912741</td>\n",
       "      <td>20</td>\n",
       "      <td>india</td>\n",
       "      <td>66</td>\n",
       "      <td>0</td>\n",
       "    </tr>\n",
       "    <tr>\n",
       "      <th>8</th>\n",
       "      <td>india_user_0</td>\n",
       "      <td>0M0ANKNzmM4Odd7FNKghzW</td>\n",
       "      <td>48</td>\n",
       "      <td>2024-04-09 11:25:10.912742</td>\n",
       "      <td>20</td>\n",
       "      <td>india</td>\n",
       "      <td>55</td>\n",
       "      <td>0</td>\n",
       "    </tr>\n",
       "    <tr>\n",
       "      <th>9</th>\n",
       "      <td>india_user_0</td>\n",
       "      <td>0TL0LFcwIBF5eX7arDIKxY</td>\n",
       "      <td>12</td>\n",
       "      <td>2024-03-18 11:25:10.912743</td>\n",
       "      <td>20</td>\n",
       "      <td>india</td>\n",
       "      <td>77</td>\n",
       "      <td>0</td>\n",
       "    </tr>\n",
       "  </tbody>\n",
       "</table>\n",
       "</div>"
      ],
      "text/plain": [
       "        user_id                 song_id  play_count  \\\n",
       "0  india_user_0  00Srvq2BtgG9afXY9kzB1V          27   \n",
       "1  india_user_0  01N3UDXUKUP6e2It26WAak           5   \n",
       "2  india_user_0  09CnYHiZ5jGT1wr1TXJ9Zt           6   \n",
       "3  india_user_0  0ClPIeT6MSgfSgQ9ZrJbAq           1   \n",
       "4  india_user_0  0CnlKa2jjIMzG0gLN1KZbD          14   \n",
       "5  india_user_0  0HGItm7Ox9AnHZbx26nkE4          12   \n",
       "6  india_user_0  0Jx0wecBc4647J4QMdmsY1           4   \n",
       "7  india_user_0  0LMwmV37RCmBO2so0szAFs           8   \n",
       "8  india_user_0  0M0ANKNzmM4Odd7FNKghzW          48   \n",
       "9  india_user_0  0TL0LFcwIBF5eX7arDIKxY          12   \n",
       "\n",
       "                 last_played  user_age user_country  days_since_last_played  \\\n",
       "0 2024-03-29 11:25:10.912694        20        india                      66   \n",
       "1 2024-05-14 11:25:10.912733        20        india                      20   \n",
       "2 2024-05-29 11:25:10.912735        20        india                       5   \n",
       "3 2024-04-27 11:25:10.912737        20        india                      37   \n",
       "4 2024-03-12 11:25:10.912738        20        india                      83   \n",
       "5 2024-05-31 11:25:10.912739        20        india                       3   \n",
       "6 2024-03-25 11:25:10.912740        20        india                      70   \n",
       "7 2024-03-29 11:25:10.912741        20        india                      66   \n",
       "8 2024-04-09 11:25:10.912742        20        india                      55   \n",
       "9 2024-03-18 11:25:10.912743        20        india                      77   \n",
       "\n",
       "   churn  \n",
       "0      0  \n",
       "1      0  \n",
       "2      0  \n",
       "3      0  \n",
       "4      0  \n",
       "5      0  \n",
       "6      0  \n",
       "7      0  \n",
       "8      0  \n",
       "9      0  "
      ]
     },
     "execution_count": 2,
     "metadata": {},
     "output_type": "execute_result"
    }
   ],
   "source": [
    "# load the dataset\n",
    "data = pd.read_csv('data/user/user_data.csv')\n",
    "\n",
    "# convert 'last_played' to datetime and create days since last played\n",
    "data['last_played'] = pd.to_datetime(data['last_played'])\n",
    "data['days_since_last_played'] = (pd.to_datetime('now') - data['last_played']).dt.days\n",
    "\n",
    "# determine churn, per user NOT per row\n",
    "user_last_played = data.groupby('user_id')['days_since_last_played'].max().reset_index() # Create a df showing closest streaming date per user\n",
    "user_last_played['churn'] = user_last_played['days_since_last_played'] > 20 # Define churn\n",
    "\n",
    "# Add randomness to the churn, adding variability to mimic reality\n",
    "np.random.seed(42)  # reproducibility\n",
    "flip_prob = 0.20  # Probability churn changing\n",
    "random_flips = np.random.rand(len(user_last_played)) < flip_prob\n",
    "user_last_played['churn'] = user_last_played['churn'] ^ random_flips\n",
    "\n",
    "# merge the churn information back into the original dataset\n",
    "data = data.merge(user_last_played[['user_id', 'churn']], on='user_id', how='left')\n",
    "\n",
    "# convert churn from T/F to 1/0\n",
    "data['churn'] = data['churn'].astype(int)\n",
    "\n",
    "data.to_csv(\"data/user/user_churn.csv\", index=False)\n",
    "data.head(10)"
   ]
  },
  {
   "cell_type": "code",
   "execution_count": 3,
   "metadata": {},
   "outputs": [
    {
     "name": "stdout",
     "output_type": "stream",
     "text": [
      "churn\n",
      "1    775\n",
      "0    225\n",
      "Name: count, dtype: int64\n"
     ]
    }
   ],
   "source": [
    "# Group by 'user_id' and take the maximum 'churn' value per user\n",
    "user_churn = data.groupby('user_id')['churn'].max().reset_index()\n",
    "\n",
    "# Count the number of users with churn = 0 and churn = 1\n",
    "churn_counts = user_churn['churn'].value_counts()\n",
    "\n",
    "print(churn_counts)\n"
   ]
  },
  {
   "cell_type": "code",
   "execution_count": 4,
   "metadata": {},
   "outputs": [],
   "source": [
    "# Define features and target\n",
    "features = ['user_age', 'play_count']\n",
    "target = 'churn'\n",
    "\n",
    "X = data[features]\n",
    "y = data[target]"
   ]
  },
  {
   "cell_type": "code",
   "execution_count": 5,
   "metadata": {},
   "outputs": [],
   "source": [
    "# Split the data\n",
    "X_train, X_test, y_train, y_test = train_test_split(X, y, test_size=0.2, random_state=42)"
   ]
  },
  {
   "cell_type": "code",
   "execution_count": 6,
   "metadata": {},
   "outputs": [
    {
     "name": "stdout",
     "output_type": "stream",
     "text": [
      "Best parameters found: {'bootstrap': True, 'max_depth': 10, 'min_samples_leaf': 6, 'min_samples_split': 10, 'n_estimators': 100}\n"
     ]
    }
   ],
   "source": [
    "# Hyperparameter Tuning using GridSearchCV\n",
    "param_grid = {\n",
    "    'n_estimators': [50,100],\n",
    "    'max_depth': [5,10],\n",
    "    'min_samples_split': [10,15],\n",
    "    'min_samples_leaf': [4,6],\n",
    "    'bootstrap': [True]\n",
    "}\n",
    "\n",
    "rf = RandomForestClassifier(random_state=42)\n",
    "grid_search = GridSearchCV(estimator=rf, param_grid=param_grid, cv=3, n_jobs=-1, verbose=0, scoring='roc_auc')\n",
    "grid_search.fit(X_train, y_train)\n",
    "\n",
    "# Best model from GridSearch\n",
    "best_rf = grid_search.best_estimator_\n",
    "print(f'Best parameters found: {grid_search.best_params_}')"
   ]
  },
  {
   "cell_type": "code",
   "execution_count": 7,
   "metadata": {},
   "outputs": [
    {
     "name": "stdout",
     "output_type": "stream",
     "text": [
      "Accuracy: 0.7733\n",
      "Precision: 0.77349\n",
      "Recall: 0.99966\n",
      "F1 Score: 0.87215\n",
      "Confusion Matrix: \n",
      " [[    4  9571]\n",
      " [   11 32684]]\n"
     ]
    }
   ],
   "source": [
    "# Predict and evaluate\n",
    "y_pred = best_rf.predict(X_test)\n",
    "accuracy = accuracy_score(y_test, y_pred)\n",
    "precision = precision_score(y_test, y_pred)\n",
    "recall = recall_score(y_test, y_pred)\n",
    "f1 = f1_score(y_test, y_pred)\n",
    "\n",
    "print(f'Accuracy: {accuracy:.4f}')\n",
    "print(f'Precision: {precision:.5f}')\n",
    "print(f'Recall: {recall:.5f}')\n",
    "print(f'F1 Score: {f1:.5f}')\n",
    "print(f'Confusion Matrix: \\n {confusion_matrix(y_test, y_pred)}')"
   ]
  },
  {
   "cell_type": "markdown",
   "metadata": {},
   "source": [
    "### Visualising the model"
   ]
  },
  {
   "cell_type": "code",
   "execution_count": 8,
   "metadata": {},
   "outputs": [
    {
     "data": {
      "image/png": "[encoded data removed]",
      "text/plain": [
       "<Figure size 1000x600 with 1 Axes>"
      ]
     },
     "metadata": {},
     "output_type": "display_data"
    }
   ],
   "source": [
    "# Make predictions\n",
    "y_pred_proba = best_rf.predict_proba(X_test)[:, 1]\n",
    "\n",
    "# Calculate ROC curve and AUC\n",
    "fpr, tpr, thresholds = roc_curve(y_test, y_pred_proba)\n",
    "roc_auc = auc(fpr, tpr)\n",
    "\n",
    "# Plot the ROC curve\n",
    "plt.figure(figsize=(10, 6)) # making the figure larger\n",
    "plt.plot(fpr, tpr, color='darkblue', lw=2, label=f'ROC AUC: {roc_auc:.3f}')\n",
    "plt.plot([0, 1], [0, 1], color='red', lw=2, linestyle='--') # diagonal line for ref\n",
    "plt.xlim([0.0, 1.0]) # correct limits\n",
    "plt.ylim([0.0, 1.05]) # limits + extra for visual aid\n",
    "plt.xlabel('False Positive Rate')\n",
    "plt.ylabel('True Positive Rate')\n",
    "plt.title('ROC Curve')\n",
    "plt.legend(loc=\"lower right\")\n",
    "plt.savefig('figures/churn_roc')\n",
    "plt.show()"
   ]
  },
  {
   "cell_type": "code",
   "execution_count": 9,
   "metadata": {},
   "outputs": [
    {
     "data": {
      "text/plain": [
       "['models/churn_prediction_model.pkl']"
      ]
     },
     "execution_count": 9,
     "metadata": {},
     "output_type": "execute_result"
    }
   ],
   "source": [
    "# Save the model\n",
    "import joblib\n",
    "joblib.dump(best_rf, 'models/churn_prediction_model.pkl')"
   ]
  }
 ],
 "metadata": {
  "kernelspec": {
   "display_name": ".venv",
   "language": "python",
   "name": "python3"
  },
  "language_info": {
   "codemirror_mode": {
    "name": "ipython",
    "version": 3
   },
   "file_extension": ".py",
   "mimetype": "text/x-python",
   "name": "python",
   "nbconvert_exporter": "python",
   "pygments_lexer": "ipython3",
   "version": "3.12.0"
  }
 },
 "nbformat": 4,
 "nbformat_minor": 2
}
